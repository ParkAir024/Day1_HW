{
 "cells": [
  {
   "cell_type": "markdown",
   "metadata": {},
   "source": [
    "# Week 2 - Monday Lesson (variable assignment, loops, lists)"
   ]
  },
  {
   "cell_type": "markdown",
   "metadata": {},
   "source": [
    "## Tasks Today:\n",
    "\n",
    "1) Int & Float assignments <br>\n",
    " &nbsp;&nbsp;&nbsp;&nbsp; a) Assigning int <br>\n",
    " &nbsp;&nbsp;&nbsp;&nbsp; b) Assigning float <br>\n",
    " &nbsp;&nbsp;&nbsp;&nbsp; c) Performing Calculations on ints and floats <br>\n",
    " &nbsp;&nbsp;&nbsp;&nbsp;&nbsp;&nbsp;&nbsp;&nbsp; - Addition <br>\n",
    " &nbsp;&nbsp;&nbsp;&nbsp;&nbsp;&nbsp;&nbsp;&nbsp; - Subtraction <br>\n",
    " &nbsp;&nbsp;&nbsp;&nbsp;&nbsp;&nbsp;&nbsp;&nbsp; - Multiplication <br>\n",
    " &nbsp;&nbsp;&nbsp;&nbsp;&nbsp;&nbsp;&nbsp;&nbsp; - Division <br>\n",
    " &nbsp;&nbsp;&nbsp;&nbsp;&nbsp;&nbsp;&nbsp;&nbsp; - Floor Division <br>\n",
    " &nbsp;&nbsp;&nbsp;&nbsp;&nbsp;&nbsp;&nbsp;&nbsp; - Modulo <br>\n",
    " &nbsp;&nbsp;&nbsp;&nbsp;&nbsp;&nbsp;&nbsp;&nbsp; - Exponential <br>\n",
    "2) String Input-Output <br>\n",
    " &nbsp;&nbsp;&nbsp;&nbsp; a) String Assignment <br>\n",
    " &nbsp;&nbsp;&nbsp;&nbsp; b) print() <br>\n",
    " &nbsp;&nbsp;&nbsp;&nbsp; c) String Concatenation <br>\n",
    " &nbsp;&nbsp;&nbsp;&nbsp; d) Type Conversion <br>\n",
    " &nbsp;&nbsp;&nbsp;&nbsp; e) input() <br>\n",
    " &nbsp;&nbsp;&nbsp;&nbsp; f) format() <br>\n",
    " &nbsp;&nbsp;&nbsp;&nbsp; g) Old Way (python 2) <br>\n",
    "3) <b>In-Class Exercise #1</b> <br>\n",
    "4) If Statements <br>\n",
    " &nbsp;&nbsp;&nbsp;&nbsp; a) 'is' keyword <br>\n",
    " &nbsp;&nbsp;&nbsp;&nbsp; b) 'in' keyword <br>\n",
    " &nbsp;&nbsp;&nbsp;&nbsp; c) 'not in' keyword <br>\n",
    "5) <b>In-Class Exercise #2</b> <br>\n",
    "6) Elif Statements <br>\n",
    "7) Else Statements <br>\n",
    "8) <b>In-Class Exercise #3</b> <br>\n",
    "9) For Loops <br>\n",
    " &nbsp;&nbsp;&nbsp;&nbsp; a) Using 'in' keyword <br>\n",
    " &nbsp;&nbsp;&nbsp;&nbsp; b) Continue Statement <br>\n",
    " &nbsp;&nbsp;&nbsp;&nbsp; c) Break Statement <br>\n",
    " &nbsp;&nbsp;&nbsp;&nbsp; d) Pass Statement <br>\n",
    " &nbsp;&nbsp;&nbsp;&nbsp; e) Double For Loops <br>\n",
    "10) While Loops <br>\n",
    " &nbsp;&nbsp;&nbsp;&nbsp; a) Looping 'While True' <br>\n",
    " &nbsp;&nbsp;&nbsp;&nbsp; b) While and For Loops Used Together <br>\n",
    "11) Built-In Functions <br>\n",
    " &nbsp;&nbsp;&nbsp;&nbsp; a) range() <br>\n",
    " &nbsp;&nbsp;&nbsp;&nbsp; b) len() <br>\n",
    " &nbsp;&nbsp;&nbsp;&nbsp; c) help() <br>\n",
    " &nbsp;&nbsp;&nbsp;&nbsp; d) isinstance() <br>\n",
    " &nbsp;&nbsp;&nbsp;&nbsp; e) abs() <br>\n",
    "12) Try and Except <br>\n",
    "13) Lists <br>\n",
    " &nbsp;&nbsp;&nbsp;&nbsp; a) Declaring Lists <br>\n",
    " &nbsp;&nbsp;&nbsp;&nbsp; b) Indexing a List <br>\n",
    " &nbsp;&nbsp;&nbsp;&nbsp; c) .append() <br>\n",
    " &nbsp;&nbsp;&nbsp;&nbsp; d) .insert() <br>\n",
    " &nbsp;&nbsp;&nbsp;&nbsp; e) .pop() <br>\n",
    " &nbsp;&nbsp;&nbsp;&nbsp; f) .remove() <br>\n",
    " &nbsp;&nbsp;&nbsp;&nbsp; g) del() <br>\n",
    " &nbsp;&nbsp;&nbsp;&nbsp; h) Concatenating Two Lists <br>\n",
    " &nbsp;&nbsp;&nbsp;&nbsp; i) Lists Within Lists <br>\n",
    " &nbsp;&nbsp;&nbsp;&nbsp; j) Looping Through Lists <br>"
   ]
  },
  {
   "cell_type": "markdown",
   "metadata": {},
   "source": [
    "### Int & Float Assignments"
   ]
  },
  {
   "cell_type": "markdown",
   "metadata": {},
   "source": [
    "##### Assigning int"
   ]
  },
  {
   "cell_type": "code",
   "execution_count": 54,
   "metadata": {},
   "outputs": [
    {
     "name": "stdout",
     "output_type": "stream",
     "text": [
      "23\n",
      "25\n"
     ]
    }
   ],
   "source": [
    "my_num = 23\n",
    "\n",
    "print(my_num)\n",
    "\n",
    "type(my_num)\n",
    "\n",
    "print(25)"
   ]
  },
  {
   "cell_type": "markdown",
   "metadata": {},
   "source": [
    "##### Assinging float"
   ]
  },
  {
   "cell_type": "code",
   "execution_count": 55,
   "metadata": {},
   "outputs": [
    {
     "name": "stdout",
     "output_type": "stream",
     "text": [
      "10.5\n"
     ]
    },
    {
     "data": {
      "text/plain": [
       "float"
      ]
     },
     "execution_count": 55,
     "metadata": {},
     "output_type": "execute_result"
    }
   ],
   "source": [
    "my_float = 10.5\n",
    "\n",
    "print(my_float)\n",
    "\n",
    "type(my_float)\n",
    "\n",
    "elephant= 10.0\n",
    "\n",
    "type(elephant)"
   ]
  },
  {
   "cell_type": "markdown",
   "metadata": {},
   "source": [
    "#### Performing Calculations on ints and floats"
   ]
  },
  {
   "cell_type": "markdown",
   "metadata": {},
   "source": [
    "##### Addition"
   ]
  },
  {
   "cell_type": "code",
   "execution_count": 56,
   "metadata": {},
   "outputs": [
    {
     "name": "stdout",
     "output_type": "stream",
     "text": [
      "23\n",
      "23\n"
     ]
    },
    {
     "data": {
      "text/plain": [
       "33.5"
      ]
     },
     "execution_count": 56,
     "metadata": {},
     "output_type": "execute_result"
    }
   ],
   "source": [
    "5 + 5\n",
    "print(my_num)\n",
    "my_num + 10\n",
    "print(my_num)\n",
    "my_num\n",
    "\n",
    ".5 + .5\n",
    "\n",
    "my_float + my_num"
   ]
  },
  {
   "cell_type": "code",
   "execution_count": 57,
   "metadata": {},
   "outputs": [
    {
     "name": "stdout",
     "output_type": "stream",
     "text": [
      "33\n"
     ]
    }
   ],
   "source": [
    "# long hand\n",
    "my_num = my_num + 10\n",
    "\n",
    "print(my_num)"
   ]
  },
  {
   "cell_type": "code",
   "execution_count": 58,
   "metadata": {},
   "outputs": [
    {
     "name": "stdout",
     "output_type": "stream",
     "text": [
      "38\n"
     ]
    }
   ],
   "source": [
    "# short hand\n",
    "my_num +=5\n",
    "\n",
    "print(my_num)"
   ]
  },
  {
   "cell_type": "markdown",
   "metadata": {},
   "source": [
    "##### Subtraction"
   ]
  },
  {
   "cell_type": "code",
   "execution_count": 59,
   "metadata": {},
   "outputs": [
    {
     "data": {
      "text/plain": [
       "0.5"
      ]
     },
     "execution_count": 59,
     "metadata": {},
     "output_type": "execute_result"
    }
   ],
   "source": [
    "10-5\n",
    "\n",
    "10.5 - .5\n",
    "\n",
    "15-.5\n",
    "\n",
    "my_num - 3\n",
    "\n",
    "my_float - 10"
   ]
  },
  {
   "cell_type": "markdown",
   "metadata": {},
   "source": [
    "##### Multiplication"
   ]
  },
  {
   "cell_type": "code",
   "execution_count": 18,
   "metadata": {},
   "outputs": [
    {
     "data": {
      "text/plain": [
       "5.0"
      ]
     },
     "execution_count": 18,
     "metadata": {},
     "output_type": "execute_result"
    }
   ],
   "source": [
    "10*2\n",
    "\n",
    "my_num*10\n",
    "\n",
    "my_float*5\n",
    "\n",
    ".5*10"
   ]
  },
  {
   "cell_type": "code",
   "execution_count": 63,
   "metadata": {},
   "outputs": [
    {
     "name": "stdout",
     "output_type": "stream",
     "text": [
      "105.0\n"
     ]
    }
   ],
   "source": [
    "# long hand\n",
    "new_float = 10.5\n",
    "\n",
    "new_float = 10* new_float\n",
    "\n",
    "print(new_float)"
   ]
  },
  {
   "cell_type": "code",
   "execution_count": 61,
   "metadata": {},
   "outputs": [
    {
     "name": "stdout",
     "output_type": "stream",
     "text": [
      "50\n"
     ]
    }
   ],
   "source": [
    "new_int = 10\n",
    "# short hand\n",
    "new_int *= 5\n",
    "\n",
    "print(new_int)"
   ]
  },
  {
   "cell_type": "markdown",
   "metadata": {},
   "source": [
    "##### Division"
   ]
  },
  {
   "cell_type": "code",
   "execution_count": 22,
   "metadata": {},
   "outputs": [
    {
     "data": {
      "text/plain": [
       "5.25"
      ]
     },
     "execution_count": 22,
     "metadata": {},
     "output_type": "execute_result"
    }
   ],
   "source": [
    "# returns a float\n",
    "25/5\n",
    "\n",
    "10.5/2\n",
    "\n",
    "my_float/2\n",
    "\n"
   ]
  },
  {
   "cell_type": "markdown",
   "metadata": {},
   "source": [
    "##### Floor Division"
   ]
  },
  {
   "cell_type": "code",
   "execution_count": 26,
   "metadata": {},
   "outputs": [
    {
     "data": {
      "text/plain": [
       "5"
      ]
     },
     "execution_count": 26,
     "metadata": {},
     "output_type": "execute_result"
    }
   ],
   "source": [
    "my_float//2\n",
    "\n",
    "11//2\n",
    "\n",
    "11.0//2\n",
    "\n",
    "11//2"
   ]
  },
  {
   "cell_type": "markdown",
   "metadata": {},
   "source": [
    "##### Modulo"
   ]
  },
  {
   "cell_type": "code",
   "execution_count": 30,
   "metadata": {},
   "outputs": [
    {
     "data": {
      "text/plain": [
       "1"
      ]
     },
     "execution_count": 30,
     "metadata": {},
     "output_type": "execute_result"
    }
   ],
   "source": [
    "11%2\n",
    "\n",
    "24%5\n",
    "\n",
    "10%2\n",
    "\n",
    "11%2\n",
    "\n"
   ]
  },
  {
   "cell_type": "markdown",
   "metadata": {},
   "source": [
    "##### Exponential"
   ]
  },
  {
   "cell_type": "code",
   "execution_count": 33,
   "metadata": {},
   "outputs": [
    {
     "data": {
      "text/plain": [
       "12167"
      ]
     },
     "execution_count": 33,
     "metadata": {},
     "output_type": "execute_result"
    }
   ],
   "source": [
    "10**2\n",
    "10**10\n",
    "\n",
    "my_num**3"
   ]
  },
  {
   "cell_type": "markdown",
   "metadata": {},
   "source": [
    "### String Input-Output"
   ]
  },
  {
   "cell_type": "markdown",
   "metadata": {},
   "source": [
    "##### String Assignment"
   ]
  },
  {
   "cell_type": "code",
   "execution_count": 64,
   "metadata": {},
   "outputs": [
    {
     "name": "stdout",
     "output_type": "stream",
     "text": [
      "<class 'str'>\n",
      "hello world\n"
     ]
    }
   ],
   "source": [
    "my_string = \"hello world\"\n",
    "\n",
    "print(type(my_string))\n",
    "\n",
    "print(my_string)"
   ]
  },
  {
   "cell_type": "markdown",
   "metadata": {},
   "source": [
    "##### print() <br>\n",
    "<p>Don't forget about end=' '</p>"
   ]
  },
  {
   "cell_type": "code",
   "execution_count": 72,
   "metadata": {},
   "outputs": [
    {
     "name": "stdout",
     "output_type": "stream",
     "text": [
      "hello world padawans rock\n",
      "Instructor Brandt and Dylan\n"
     ]
    }
   ],
   "source": [
    "print(my_string, end= \" \")\n",
    "#default \\n newline\n",
    "print(\"padawans rock\", end = \"\\n\")\n",
    "\n",
    "print(\"Instructor \", end=\"Brandt \")\n",
    "print(\"and Dylan\")"
   ]
  },
  {
   "cell_type": "markdown",
   "metadata": {},
   "source": [
    "##### String Concatenation"
   ]
  },
  {
   "cell_type": "code",
   "execution_count": 79,
   "metadata": {},
   "outputs": [
    {
     "name": "stdout",
     "output_type": "stream",
     "text": [
      "Future Developers Padawans 136\n",
      "brandt dylan\n"
     ]
    }
   ],
   "source": [
    "class_string = \"Padawans 136\"\n",
    "\n",
    "concat_string = \"Future Developers\" + \" \" + class_string\n",
    "\n",
    "print(concat_string)\n",
    "\n",
    "instructor_one = \"brandt\"\n",
    "instructor_two = \"dylan\"\n",
    "\n",
    "instructors = instructor_one + \" \" + instructor_two\n",
    "\n",
    "print(instructors)"
   ]
  },
  {
   "cell_type": "markdown",
   "metadata": {},
   "source": [
    "##### Type Conversion"
   ]
  },
  {
   "cell_type": "code",
   "execution_count": 153,
   "metadata": {},
   "outputs": [
    {
     "name": "stdout",
     "output_type": "stream",
     "text": [
      "<class 'str'>\n",
      "<class 'str'>\n",
      "<class 'int'>\n"
     ]
    }
   ],
   "source": [
    "type(my_num)\n",
    "\n",
    "str(my_num)\n",
    "\n",
    "my_num = str(my_num)\n",
    "type(my_num)\n",
    "# type error\n",
    "# my_num +10\n",
    "\n",
    "str(55)\n",
    "\n",
    "type(int(\"55\"))\n",
    "\n",
    "str_num = \"23\"\n",
    "print(type(str_num))\n",
    "\n",
    "int(str_num)\n",
    "\n",
    "print(type(str_num))\n",
    "\n",
    "num = int(str_num)\n",
    "\n",
    "print(type(num))"
   ]
  },
  {
   "cell_type": "markdown",
   "metadata": {},
   "source": [
    "##### input()"
   ]
  },
  {
   "cell_type": "code",
   "execution_count": null,
   "metadata": {},
   "outputs": [],
   "source": [
    "my_age = input(\"What is your age: \")\n",
    "print(my_age, type(my_age))\n",
    "\n",
    "my_age = int(my_age) + 1"
   ]
  },
  {
   "cell_type": "markdown",
   "metadata": {},
   "source": [
    "##### format()"
   ]
  },
  {
   "cell_type": "code",
   "execution_count": 114,
   "metadata": {},
   "outputs": [
    {
     "data": {
      "text/plain": [
       "\"dylan you are 33 year's old\""
      ]
     },
     "execution_count": 114,
     "metadata": {},
     "output_type": "execute_result"
    }
   ],
   "source": [
    "instructor_two = \"dylan\"\n",
    "\n",
    "\"{} You are {} year's old\" .format(instructor_two, 33)\n",
    "\n",
    "f\"{instructor_two} you are {33} year's old\""
   ]
  },
  {
   "cell_type": "code",
   "execution_count": null,
   "metadata": {},
   "outputs": [],
   "source": []
  },
  {
   "cell_type": "markdown",
   "metadata": {},
   "source": [
    "##### Old Way (python 2)"
   ]
  },
  {
   "cell_type": "code",
   "execution_count": null,
   "metadata": {},
   "outputs": [],
   "source": [
    "\"My name is %s\" %instructor_two\n",
    "\n",
    "\"My age %d and name is %s\" % (int(my_age), instructor_two)"
   ]
  },
  {
   "cell_type": "code",
   "execution_count": null,
   "metadata": {},
   "outputs": [],
   "source": []
  },
  {
   "cell_type": "markdown",
   "metadata": {},
   "source": [
    "# In-Class Exercise 1 <br>\n",
    "<p>Create a format statement that asks for color, year, make, model and prints out the results</p>"
   ]
  },
  {
   "cell_type": "code",
   "execution_count": 116,
   "metadata": {},
   "outputs": [
    {
     "name": "stdout",
     "output_type": "stream",
     "text": [
      "color: Red\n",
      "year: 2009\n",
      "make: Chevy\n",
      "model: Cobalt\n"
     ]
    }
   ],
   "source": [
    "color = input(\"color: \")\n",
    "year = input(\"year: \")\n",
    "make = input(\"make: \")\n",
    "model= input(\"model: \")\n",
    "\n"
   ]
  },
  {
   "cell_type": "markdown",
   "metadata": {},
   "source": [
    "### If Statements"
   ]
  },
  {
   "cell_type": "code",
   "execution_count": 134,
   "metadata": {},
   "outputs": [
    {
     "name": "stdout",
     "output_type": "stream",
     "text": [
      "11 > 10\n",
      "true\n",
      "action two\n",
      "still in if\n",
      "1 true\n",
      "both true 10<11 and 9==9\n"
     ]
    }
   ],
   "source": [
    "# Available operators: Greater(>), Less(<),Equal(==)\n",
    "# Greater or Equal(>=), Less or Equal (<=)\n",
    "\n",
    "# Truth Tree:\n",
    "# T && F = F\n",
    "# T && T = T\n",
    "# T || F = T\n",
    "# F || T = T\n",
    "# F || F = F\n",
    "\n",
    "if 10> 11:\n",
    "    print(\"10 greater than 11\")\n",
    "    \n",
    "if 11>10:\n",
    "        print(\"11 > 10\")\n",
    "        \n",
    "if True:\n",
    "    print(\"true\")\n",
    "    print(\"action two\")\n",
    "    print(\"still in if\")\n",
    "    \n",
    "if 0:\n",
    "    print(\"zero\")\n",
    "\n",
    "if 1:\n",
    "    print(1,\"true\")\n",
    "\n",
    "if 10>11 and 9==9:\n",
    "    print(\"both true\")\n",
    "    \n",
    "if 10>11 and 9==9:\n",
    "    print(\"either true using or\")\n",
    "\n",
    "if 10<11 and 9==9:\n",
    "    print(\"both true 10<11 and 9==9\")\n",
    "    \n",
    "if 10>11 or 9 !=9:\n",
    "    print(\"either true using or 2\")\n",
    "        "
   ]
  },
  {
   "cell_type": "markdown",
   "metadata": {},
   "source": [
    "##### 'is' keyword"
   ]
  },
  {
   "cell_type": "code",
   "execution_count": 140,
   "metadata": {
    "scrolled": true
   },
   "outputs": [
    {
     "name": "stdout",
     "output_type": "stream",
     "text": [
      "actual copies\n",
      "{'foo': 'bar'}\n"
     ]
    }
   ],
   "source": [
    "# if 9 is 9:\n",
    "#    print (\"is true\")\n",
    "\n",
    "my_dict = {\"foo\":\"bar\"}\n",
    "my_dict_copy = {\"foo\":\"bar\"}\n",
    "actual_copy = my_dict\n",
    "\n",
    "if my_dict is my_dict_copy:\n",
    "    print(\"copies\")\n",
    "\n",
    "if my_dict is actual_copy:\n",
    "    print(\"actual copies\")\n",
    "    print(actual_copy)"
   ]
  },
  {
   "cell_type": "markdown",
   "metadata": {},
   "source": [
    "##### 'in' keyword"
   ]
  },
  {
   "cell_type": "code",
   "execution_count": 137,
   "metadata": {},
   "outputs": [
    {
     "name": "stdout",
     "output_type": "stream",
     "text": [
      "brandt dylan\n",
      "True\n",
      "True\n",
      "False\n",
      "True\n",
      "this will be a strong class\n"
     ]
    }
   ],
   "source": [
    "print(instructors)\n",
    "\n",
    "print(\"b\" in instructors)\n",
    "\n",
    "print(\"brandt\" in instructors)\n",
    "\n",
    "print(\"Brandt\" in instructors)\n",
    "\n",
    "print(\"d\" in instructors)\n",
    "\n",
    "if \"brandt\" in instructors:\n",
    "    print(\"this will be a strong class\")"
   ]
  },
  {
   "cell_type": "markdown",
   "metadata": {},
   "source": [
    "##### 'not in' keyword'"
   ]
  },
  {
   "cell_type": "code",
   "execution_count": 138,
   "metadata": {},
   "outputs": [
    {
     "name": "stdout",
     "output_type": "stream",
     "text": [
      "case sensitive\n"
     ]
    }
   ],
   "source": [
    "if \"D\" not in \"dylan\":\n",
    "    print(\"case sensitive\")\n",
    "    "
   ]
  },
  {
   "cell_type": "markdown",
   "metadata": {},
   "source": [
    "# In-Class Exercise 2 <br>\n",
    "<p>Ask user for input, check to see if the letter 'p' is in the input</p>"
   ]
  },
  {
   "cell_type": "code",
   "execution_count": 146,
   "metadata": {},
   "outputs": [
    {
     "name": "stdout",
     "output_type": "stream",
     "text": [
      "name: phil\n",
      "True\n"
     ]
    }
   ],
   "source": [
    "name = input(\"name: \")\n",
    "print(\"p\" in name)"
   ]
  },
  {
   "cell_type": "markdown",
   "metadata": {},
   "source": [
    "## Using 'and'/'or' with If Statements"
   ]
  },
  {
   "cell_type": "code",
   "execution_count": null,
   "metadata": {},
   "outputs": [],
   "source": [
    "# see above"
   ]
  },
  {
   "cell_type": "markdown",
   "metadata": {},
   "source": [
    "### Elif Statements"
   ]
  },
  {
   "cell_type": "code",
   "execution_count": 164,
   "metadata": {},
   "outputs": [
    {
     "name": "stdout",
     "output_type": "stream",
     "text": [
      "padawans\n"
     ]
    }
   ],
   "source": [
    "if \"ryan\" in instructors:\n",
    "    print(\"ranger\")\n",
    "elif \"brian\" in instructors:\n",
    "    print(\"kekambas\")\n",
    "elif \"dylan\" in instructors:\n",
    "    print(\"padawans\")\n",
    "elif \"brandt\" in instructors:\n",
    "    print(\"also padawans\")\n",
    "else:\n",
    "    print(\"Maybe not in CT\")"
   ]
  },
  {
   "cell_type": "markdown",
   "metadata": {},
   "source": [
    "### Else Statements"
   ]
  },
  {
   "cell_type": "code",
   "execution_count": null,
   "metadata": {},
   "outputs": [],
   "source": [
    "# see above"
   ]
  },
  {
   "cell_type": "markdown",
   "metadata": {},
   "source": [
    "### For Loops"
   ]
  },
  {
   "cell_type": "code",
   "execution_count": 152,
   "metadata": {},
   "outputs": [
    {
     "name": "stdout",
     "output_type": "stream",
     "text": [
      "brandt dylan\n",
      "b\n",
      "hello world\n",
      "r\n",
      "hello world\n",
      "a\n",
      "hello world\n",
      "n\n",
      "hello world\n",
      "d\n",
      "hello world\n",
      "t\n",
      "hello world\n",
      " \n",
      "hello world\n",
      "d\n",
      "hello world\n",
      "y\n",
      "hello world\n",
      "l\n",
      "hello world\n",
      "a\n",
      "hello world\n",
      "n\n",
      "hello world\n"
     ]
    }
   ],
   "source": [
    "print(instructors)\n",
    "\n",
    "for e in instructors:\n",
    "    print(e)\n",
    "    print(\"hello world\")"
   ]
  },
  {
   "cell_type": "markdown",
   "metadata": {},
   "source": [
    "##### Using 'in' keyword"
   ]
  },
  {
   "cell_type": "code",
   "execution_count": null,
   "metadata": {},
   "outputs": [],
   "source": [
    "# see above"
   ]
  },
  {
   "cell_type": "markdown",
   "metadata": {},
   "source": [
    "##### Continue Statement"
   ]
  },
  {
   "cell_type": "code",
   "execution_count": null,
   "metadata": {},
   "outputs": [],
   "source": [
    "# will continue to next iteration"
   ]
  },
  {
   "cell_type": "code",
   "execution_count": 157,
   "metadata": {},
   "outputs": [
    {
     "name": "stdout",
     "output_type": "stream",
     "text": [
      "b\n",
      "r\n",
      "a\n",
      "n\n",
      "d\n",
      " \n",
      "d\n",
      "y\n",
      "l\n",
      "a\n",
      "n\n"
     ]
    }
   ],
   "source": [
    "for e in instructors:\n",
    "    if e == \"t\":\n",
    "        continue\n",
    "    print(e)"
   ]
  },
  {
   "cell_type": "markdown",
   "metadata": {},
   "source": [
    "##### Break Statement"
   ]
  },
  {
   "cell_type": "code",
   "execution_count": null,
   "metadata": {},
   "outputs": [],
   "source": [
    "# will break out of current loop"
   ]
  },
  {
   "cell_type": "code",
   "execution_count": 158,
   "metadata": {},
   "outputs": [
    {
     "name": "stdout",
     "output_type": "stream",
     "text": [
      "b\n",
      "r\n",
      "a\n",
      "n\n",
      "d\n"
     ]
    }
   ],
   "source": [
    "for e in instructors:\n",
    "    if e == \"t\":\n",
    "       break\n",
    "    print(e)"
   ]
  },
  {
   "cell_type": "markdown",
   "metadata": {},
   "source": [
    "##### Pass Statement"
   ]
  },
  {
   "cell_type": "code",
   "execution_count": null,
   "metadata": {},
   "outputs": [],
   "source": [
    "# mostly used as a placeholder, and will continue on same iteration"
   ]
  },
  {
   "cell_type": "code",
   "execution_count": 159,
   "metadata": {},
   "outputs": [
    {
     "name": "stdout",
     "output_type": "stream",
     "text": [
      "b\n",
      "r\n",
      "a\n",
      "n\n",
      "d\n",
      "t\n",
      " \n",
      "d\n",
      "y\n",
      "l\n",
      "a\n",
      "n\n"
     ]
    }
   ],
   "source": [
    "for e in instructors:\n",
    "    if e == \"t\":\n",
    "       pass\n",
    "    print(e)"
   ]
  },
  {
   "cell_type": "markdown",
   "metadata": {},
   "source": [
    "##### Double For Loops"
   ]
  },
  {
   "cell_type": "code",
   "execution_count": 168,
   "metadata": {},
   "outputs": [
    {
     "name": "stdout",
     "output_type": "stream",
     "text": [
      "letter = 'd' letter_two ='d'\n",
      "1\n",
      "letter = 'd' letter_two ='y'\n",
      "2\n",
      "letter = 'd' letter_two ='l'\n",
      "3\n",
      "letter = 'd' letter_two ='a'\n",
      "4\n",
      "letter = 'd' letter_two ='n'\n",
      "5\n",
      "letter = 'y' letter_two ='d'\n",
      "6\n",
      "letter = 'y' letter_two ='y'\n",
      "7\n",
      "letter = 'y' letter_two ='l'\n",
      "8\n",
      "letter = 'y' letter_two ='a'\n",
      "9\n",
      "letter = 'y' letter_two ='n'\n",
      "10\n",
      "letter = 'l' letter_two ='d'\n",
      "11\n",
      "letter = 'l' letter_two ='y'\n",
      "12\n",
      "letter = 'l' letter_two ='l'\n",
      "13\n",
      "letter = 'l' letter_two ='a'\n",
      "14\n",
      "letter = 'l' letter_two ='n'\n",
      "15\n",
      "letter = 'a' letter_two ='d'\n",
      "16\n",
      "letter = 'a' letter_two ='y'\n",
      "17\n",
      "letter = 'a' letter_two ='l'\n",
      "18\n",
      "letter = 'a' letter_two ='a'\n",
      "19\n",
      "letter = 'a' letter_two ='n'\n",
      "20\n",
      "letter = 'n' letter_two ='d'\n",
      "21\n",
      "letter = 'n' letter_two ='y'\n",
      "22\n",
      "letter = 'n' letter_two ='l'\n",
      "23\n",
      "letter = 'n' letter_two ='a'\n",
      "24\n",
      "letter = 'n' letter_two ='n'\n",
      "25\n"
     ]
    }
   ],
   "source": [
    "step = 1\n",
    "for letter in \"dylan\":\n",
    "    for letter_two in \"dylan\":\n",
    "        print(f\"{letter = } {letter_two =}\")\n",
    "        print(step)\n",
    "        step += 1"
   ]
  },
  {
   "cell_type": "markdown",
   "metadata": {},
   "source": [
    "### While Loops"
   ]
  },
  {
   "cell_type": "code",
   "execution_count": 170,
   "metadata": {},
   "outputs": [
    {
     "name": "stdout",
     "output_type": "stream",
     "text": [
      "0\n",
      "1\n",
      "2\n",
      "3\n",
      "4\n",
      "5\n",
      "6\n",
      "7\n",
      "8\n",
      "9\n",
      "10 loop is done\n"
     ]
    }
   ],
   "source": [
    "num = 0\n",
    "while num < 10:\n",
    "    print(num)\n",
    "    num += 1\n",
    "print(num, \"loop is done\")\n"
   ]
  },
  {
   "cell_type": "markdown",
   "metadata": {},
   "source": [
    "##### Looping 'While True'"
   ]
  },
  {
   "cell_type": "code",
   "execution_count": 174,
   "metadata": {},
   "outputs": [
    {
     "name": "stdout",
     "output_type": "stream",
     "text": [
      "True be careful\n",
      "True be careful\n",
      "True be careful\n",
      "True be careful\n",
      "True be careful\n",
      "True be careful\n",
      "True be careful\n",
      "True be careful\n",
      "True be careful\n",
      "True be careful\n",
      "True be careful\n",
      "True be careful\n",
      "True be careful\n",
      "True be careful\n",
      "True be careful\n"
     ]
    }
   ],
   "source": [
    "num = 0\n",
    "while True:\n",
    "    print(True, \"be careful\")\n",
    "    num += 1\n",
    "    if num ==15:\n",
    "        break"
   ]
  },
  {
   "cell_type": "code",
   "execution_count": 175,
   "metadata": {},
   "outputs": [],
   "source": [
    "flag = True\n",
    "num = 0\n",
    "while flag:\n",
    "    num += 1\n",
    "    if num == 15:\n",
    "        flag = False"
   ]
  },
  {
   "cell_type": "markdown",
   "metadata": {},
   "source": [
    "##### While & For Loops Used Together"
   ]
  },
  {
   "cell_type": "code",
   "execution_count": 178,
   "metadata": {},
   "outputs": [
    {
     "name": "stdout",
     "output_type": "stream",
     "text": [
      "num =0letter ='b'\n",
      "num =0letter ='r'\n",
      "num =0letter ='a'\n",
      "num =0letter ='n'\n",
      "num =0letter ='d'\n",
      "num =0letter ='t'\n",
      "num =1letter ='b'\n",
      "num =1letter ='r'\n",
      "num =1letter ='a'\n",
      "num =1letter ='n'\n",
      "num =1letter ='d'\n",
      "num =1letter ='t'\n",
      "num =2letter ='b'\n",
      "num =2letter ='r'\n",
      "num =2letter ='a'\n",
      "num =2letter ='n'\n",
      "num =2letter ='d'\n",
      "num =2letter ='t'\n",
      "num =3letter ='b'\n",
      "num =3letter ='r'\n",
      "num =3letter ='a'\n",
      "num =3letter ='n'\n",
      "num =3letter ='d'\n",
      "num =3letter ='t'\n",
      "num =4letter ='b'\n",
      "num =4letter ='r'\n",
      "num =4letter ='a'\n",
      "num =4letter ='n'\n",
      "num =4letter ='d'\n",
      "num =4letter ='t'\n",
      "num =5letter ='b'\n",
      "num =5letter ='r'\n",
      "num =5letter ='a'\n",
      "num =5letter ='n'\n",
      "num =5letter ='d'\n",
      "num =5letter ='t'\n",
      "num =6letter ='b'\n",
      "num =6letter ='r'\n",
      "num =6letter ='a'\n",
      "num =6letter ='n'\n",
      "num =6letter ='d'\n",
      "num =6letter ='t'\n",
      "num =7letter ='b'\n",
      "num =7letter ='r'\n",
      "num =7letter ='a'\n",
      "num =7letter ='n'\n",
      "num =7letter ='d'\n",
      "num =7letter ='t'\n",
      "num =8letter ='b'\n",
      "num =8letter ='r'\n",
      "num =8letter ='a'\n",
      "num =8letter ='n'\n",
      "num =8letter ='d'\n",
      "num =8letter ='t'\n",
      "num =9letter ='b'\n",
      "num =9letter ='r'\n",
      "num =9letter ='a'\n",
      "num =9letter ='n'\n",
      "num =9letter ='d'\n",
      "num =9letter ='t'\n"
     ]
    }
   ],
   "source": [
    "num = 0\n",
    "while num < 10:\n",
    "    for letter in \"brandt\":\n",
    "        print(f\"{num =}{letter =}\")\n",
    "    num += 1"
   ]
  },
  {
   "cell_type": "markdown",
   "metadata": {},
   "source": [
    "### Built-In Functions"
   ]
  },
  {
   "cell_type": "markdown",
   "metadata": {},
   "source": [
    "##### range()"
   ]
  },
  {
   "cell_type": "code",
   "execution_count": 184,
   "metadata": {},
   "outputs": [
    {
     "name": "stdout",
     "output_type": "stream",
     "text": [
      "2\n",
      "4\n",
      "6\n",
      "8\n"
     ]
    }
   ],
   "source": [
    "# range(start, stop, step)\n",
    "\n",
    "#for num in range(0,10,1):\n",
    " #   print(num)\n",
    "    \n",
    "for even in range(2,10,2):\n",
    "        print(even)"
   ]
  },
  {
   "cell_type": "markdown",
   "metadata": {},
   "source": [
    "##### len()"
   ]
  },
  {
   "cell_type": "code",
   "execution_count": 193,
   "metadata": {},
   "outputs": [
    {
     "name": "stdout",
     "output_type": "stream",
     "text": [
      "0 d\n",
      "1 y\n",
      "2 l\n",
      "3 a\n",
      "4 n\n"
     ]
    }
   ],
   "source": [
    "#print(len(\"dylan\"))\n",
    "\n",
    "#list(range(5))\n",
    "ins = \"dylan\"\n",
    "for i in range(len(\"dylan\")):\n",
    "    print(i, end =\" \")\n",
    "    print(ins[i])"
   ]
  },
  {
   "cell_type": "markdown",
   "metadata": {},
   "source": [
    "##### help()"
   ]
  },
  {
   "cell_type": "code",
   "execution_count": null,
   "metadata": {},
   "outputs": [],
   "source": []
  },
  {
   "cell_type": "markdown",
   "metadata": {},
   "source": [
    "##### isinstance()"
   ]
  },
  {
   "cell_type": "code",
   "execution_count": 195,
   "metadata": {},
   "outputs": [
    {
     "name": "stdout",
     "output_type": "stream",
     "text": [
      "True\n",
      "False\n",
      "True\n"
     ]
    }
   ],
   "source": [
    "print(isinstance(ins, str))\n",
    "print(isinstance(ins, int))\n",
    "print(isinstance(10, int))"
   ]
  },
  {
   "cell_type": "markdown",
   "metadata": {},
   "source": [
    "##### abs()"
   ]
  },
  {
   "cell_type": "code",
   "execution_count": 196,
   "metadata": {},
   "outputs": [
    {
     "data": {
      "text/plain": [
       "5"
      ]
     },
     "execution_count": 196,
     "metadata": {},
     "output_type": "execute_result"
    }
   ],
   "source": [
    "abs(-5)"
   ]
  },
  {
   "cell_type": "markdown",
   "metadata": {},
   "source": [
    "### Try and Except"
   ]
  },
  {
   "cell_type": "code",
   "execution_count": null,
   "metadata": {},
   "outputs": [],
   "source": []
  },
  {
   "cell_type": "markdown",
   "metadata": {},
   "source": [
    "### Lists"
   ]
  },
  {
   "cell_type": "markdown",
   "metadata": {},
   "source": [
    "##### Declaring Lists"
   ]
  },
  {
   "cell_type": "code",
   "execution_count": 197,
   "metadata": {},
   "outputs": [
    {
     "name": "stdout",
     "output_type": "stream",
     "text": [
      "[1, 2, 3, 4, 29]\n"
     ]
    }
   ],
   "source": [
    "alist =  []\n",
    "type(alist)\n",
    "\n",
    "num_list = [1,2,3,4,29]\n",
    "\n",
    "print(num_list)"
   ]
  },
  {
   "cell_type": "markdown",
   "metadata": {},
   "source": [
    "##### Indexing a List"
   ]
  },
  {
   "cell_type": "code",
   "execution_count": 198,
   "metadata": {},
   "outputs": [
    {
     "data": {
      "text/plain": [
       "3"
      ]
     },
     "execution_count": 198,
     "metadata": {},
     "output_type": "execute_result"
    }
   ],
   "source": [
    "num_list[0]\n",
    "num_list[-1]\n",
    "num_list[len(num_list)-1]\n",
    "\n",
    "num_list[2]"
   ]
  },
  {
   "cell_type": "markdown",
   "metadata": {},
   "source": [
    "##### .append()"
   ]
  },
  {
   "cell_type": "code",
   "execution_count": 210,
   "metadata": {},
   "outputs": [
    {
     "name": "stdout",
     "output_type": "stream",
     "text": [
      "[1, 2, 3, 4, 29, 100, 100, 100, 10]\n"
     ]
    }
   ],
   "source": [
    "num_list.append(10)\n",
    "\n",
    "print(num_list)"
   ]
  },
  {
   "cell_type": "markdown",
   "metadata": {},
   "source": [
    "##### .insert()"
   ]
  },
  {
   "cell_type": "code",
   "execution_count": 205,
   "metadata": {},
   "outputs": [
    {
     "name": "stdout",
     "output_type": "stream",
     "text": [
      "[1, 10, 10, 100, 2, 3, 4, 29, 100, 100, 100]\n"
     ]
    }
   ],
   "source": [
    "num_list.insert(1,10)\n",
    "print(num_list)"
   ]
  },
  {
   "cell_type": "markdown",
   "metadata": {},
   "source": [
    "##### .pop()"
   ]
  },
  {
   "cell_type": "code",
   "execution_count": 212,
   "metadata": {},
   "outputs": [
    {
     "name": "stdout",
     "output_type": "stream",
     "text": [
      "[1, 3, 4, 29, 100, 100, 100, 10]\n",
      "[1, 4, 29, 100, 100, 100, 10]\n",
      "3\n"
     ]
    }
   ],
   "source": [
    "# num_list.pop()\n",
    "\n",
    "print(num_list)\n",
    "\n",
    "ten= num_list.pop(1)\n",
    "print(num_list)\n",
    "print(ten)"
   ]
  },
  {
   "cell_type": "markdown",
   "metadata": {},
   "source": [
    "\n",
    "##### .remove()"
   ]
  },
  {
   "cell_type": "code",
   "execution_count": 213,
   "metadata": {},
   "outputs": [
    {
     "name": "stdout",
     "output_type": "stream",
     "text": [
      "[1, 4, 29, 100, 100, 100, 10]\n",
      "[1, 4, 100, 100, 100, 10]\n"
     ]
    }
   ],
   "source": [
    "print(num_list)\n",
    "num_list.remove(29)\n",
    "print(num_list)"
   ]
  },
  {
   "cell_type": "markdown",
   "metadata": {},
   "source": [
    "##### del()"
   ]
  },
  {
   "cell_type": "code",
   "execution_count": null,
   "metadata": {},
   "outputs": [],
   "source": []
  },
  {
   "cell_type": "markdown",
   "metadata": {},
   "source": [
    "##### Concatenating Two Lists"
   ]
  },
  {
   "cell_type": "code",
   "execution_count": 215,
   "metadata": {},
   "outputs": [
    {
     "data": {
      "text/plain": [
       "[1, 4, 100, 100, 100, 10, 1, 23]"
      ]
     },
     "execution_count": 215,
     "metadata": {},
     "output_type": "execute_result"
    }
   ],
   "source": [
    "num_list + [1,23]"
   ]
  },
  {
   "cell_type": "markdown",
   "metadata": {},
   "source": [
    "##### Lists Within Lists"
   ]
  },
  {
   "cell_type": "code",
   "execution_count": 216,
   "metadata": {},
   "outputs": [
    {
     "data": {
      "text/plain": [
       "[1, 12, 3, [1, 2, 3]]"
      ]
     },
     "execution_count": 216,
     "metadata": {},
     "output_type": "execute_result"
    }
   ],
   "source": [
    "[1,12,3,[1,2,3]]"
   ]
  },
  {
   "cell_type": "markdown",
   "metadata": {},
   "source": [
    "##### Looping Through Lists"
   ]
  },
  {
   "cell_type": "code",
   "execution_count": 217,
   "metadata": {},
   "outputs": [
    {
     "name": "stdout",
     "output_type": "stream",
     "text": [
      "1\n",
      "23\n",
      "4\n"
     ]
    }
   ],
   "source": [
    "for num in [1,23,4]:\n",
    "    print(num)"
   ]
  },
  {
   "cell_type": "markdown",
   "metadata": {},
   "source": [
    "## Exercise #1 <br>\n",
    "<p>Cube Number Test... Print out all cubed numbers up to the total value 1000. Meaning that if the cubed number is over 1000 break the loop.</p>"
   ]
  },
  {
   "cell_type": "code",
   "execution_count": 220,
   "metadata": {},
   "outputs": [
    {
     "name": "stdout",
     "output_type": "stream",
     "text": [
      "1\n",
      "8\n",
      "27\n",
      "64\n",
      "125\n",
      "216\n",
      "343\n",
      "512\n",
      "729\n",
      "1000\n"
     ]
    }
   ],
   "source": [
    "num = 1\n",
    "\n",
    "while True:\n",
    "    cube = num ** 3\n",
    "    if cube > 1000:\n",
    "        break\n",
    "    print(cube)\n",
    "    num += 1"
   ]
  },
  {
   "cell_type": "markdown",
   "metadata": {},
   "source": [
    "## Exercise #2 <br>\n",
    "<p>Get first prime numbers up to 100</p>"
   ]
  },
  {
   "cell_type": "code",
   "execution_count": 7,
   "metadata": {},
   "outputs": [],
   "source": [
    "# HINT::\n",
    "# An else after an if runs if the if didn’t\n",
    "# An else after a for runs if the for didn’t break\n",
    "\n",
    "\n",
    "def is_prime(num):\n",
    "    if num < 2:\n",
    "        return False\n",
    "    for i in range(2, int(num**0.5) + 1):\n",
    "        if num % i == 0:\n",
    "            return False\n",
    "    else:\n",
    "        return True\n",
    "\n",
    "def get_primes_up_to(limit):\n",
    "    primes = [num for num in range(2, limit) if is_prime(num)]\n",
    "    return primes\n",
    "  \n",
    "prime_numbers = get_primes_up_to(100)\n",
    "\n",
    "print(\"Prime numbers up to\", 100, \":\", prime_numbers)"
   ]
  },
  {
   "cell_type": "markdown",
   "metadata": {},
   "source": [
    "# Exercise 3 <br>\n",
    "<p>Take in a users input for their age, if they are younger than 18 print kids, if they're 18 to 65 print adults, else print seniors</p>"
   ]
  },
  {
   "cell_type": "code",
   "execution_count": 1,
   "metadata": {},
   "outputs": [
    {
     "name": "stdout",
     "output_type": "stream",
     "text": [
      "What is your age: 5\n",
      "Your a kid!\n"
     ]
    }
   ],
   "source": [
    "age = int(input(\"What is your age: \"))\n",
    "\n",
    "if age < 18:\n",
    "    print(\"Your a kid!\")\n",
    "elif 18 <= age <= 65:\n",
    "    print(\"Your an adult!\")\n",
    "else:\n",
    "    print(\"Your a senior!\")"
   ]
  }
 ],
 "metadata": {
  "kernelspec": {
   "display_name": "Python 3 (ipykernel)",
   "language": "python",
   "name": "python3"
  },
  "language_info": {
   "codemirror_mode": {
    "name": "ipython",
    "version": 3
   },
   "file_extension": ".py",
   "mimetype": "text/x-python",
   "name": "python",
   "nbconvert_exporter": "python",
   "pygments_lexer": "ipython3",
   "version": "3.11.5"
  }
 },
 "nbformat": 4,
 "nbformat_minor": 2
}
